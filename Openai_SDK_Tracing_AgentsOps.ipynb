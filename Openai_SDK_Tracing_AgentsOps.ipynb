{
  "nbformat": 4,
  "nbformat_minor": 0,
  "metadata": {
    "colab": {
      "provenance": []
    },
    "kernelspec": {
      "name": "python3",
      "display_name": "Python 3"
    },
    "language_info": {
      "name": "python"
    }
  },
  "cells": [
    {
      "cell_type": "code",
      "execution_count": 7,
      "metadata": {
        "colab": {
          "base_uri": "https://localhost:8080/"
        },
        "id": "UXX5OfEjyx6j",
        "outputId": "bd2a9d67-2498-453b-fa42-7aea0166ba73"
      },
      "outputs": [
        {
          "output_type": "stream",
          "name": "stdout",
          "text": [
            "\u001b[?25l   \u001b[90m━━━━━━━━━━━━━━━━━━━━━━━━━━━━━━━━━━━━━━━━\u001b[0m \u001b[32m0.0/198.3 kB\u001b[0m \u001b[31m?\u001b[0m eta \u001b[36m-:--:--\u001b[0m\r\u001b[2K   \u001b[90m━━━━━━━━━━━━━━━━━━━━━━━━━━━━━━━━━━━━━━━━\u001b[0m \u001b[32m198.3/198.3 kB\u001b[0m \u001b[31m6.0 MB/s\u001b[0m eta \u001b[36m0:00:00\u001b[0m\n",
            "\u001b[2K   \u001b[90m━━━━━━━━━━━━━━━━━━━━━━━━━━━━━━━━━━━━━━━━\u001b[0m \u001b[32m65.8/65.8 kB\u001b[0m \u001b[31m4.4 MB/s\u001b[0m eta \u001b[36m0:00:00\u001b[0m\n",
            "\u001b[2K   \u001b[90m━━━━━━━━━━━━━━━━━━━━━━━━━━━━━━━━━━━━━━━━\u001b[0m \u001b[32m55.9/55.9 kB\u001b[0m \u001b[31m3.7 MB/s\u001b[0m eta \u001b[36m0:00:00\u001b[0m\n",
            "\u001b[2K   \u001b[90m━━━━━━━━━━━━━━━━━━━━━━━━━━━━━━━━━━━━━━━━\u001b[0m \u001b[32m194.9/194.9 kB\u001b[0m \u001b[31m13.2 MB/s\u001b[0m eta \u001b[36m0:00:00\u001b[0m\n",
            "\u001b[2K   \u001b[90m━━━━━━━━━━━━━━━━━━━━━━━━━━━━━━━━━━━━━━━━\u001b[0m \u001b[32m119.0/119.0 kB\u001b[0m \u001b[31m7.6 MB/s\u001b[0m eta \u001b[36m0:00:00\u001b[0m\n",
            "\u001b[2K   \u001b[90m━━━━━━━━━━━━━━━━━━━━━━━━━━━━━━━━━━━━━━━━\u001b[0m \u001b[32m290.5/290.5 kB\u001b[0m \u001b[31m17.1 MB/s\u001b[0m eta \u001b[36m0:00:00\u001b[0m\n",
            "\u001b[?25h"
          ]
        }
      ],
      "source": [
        "!pip install -Uq openai-agents agentops"
      ]
    },
    {
      "cell_type": "code",
      "source": [
        "import nest_asyncio\n",
        "nest_asyncio.apply()"
      ],
      "metadata": {
        "id": "ecn_Ok9Dy6vM"
      },
      "execution_count": 8,
      "outputs": []
    },
    {
      "cell_type": "code",
      "source": [
        "import os\n",
        "\n",
        "from agents import Agent, Runner, AsyncOpenAI, OpenAIChatCompletionsModel\n",
        "from agents.run import RunConfig\n",
        "from google.colab import userdata\n",
        "\n",
        "\n",
        "gemini_api_key = userdata.get(\"GEMINI_API_KEY\")\n",
        "\n",
        "# Check if the API key is present; if not, raise an error\n",
        "if not gemini_api_key:\n",
        "    raise ValueError(\"GEMINI_API_KEY is not set. Please ensure it is defined in your .env file.\")\n",
        "\n",
        "#Reference: https://ai.google.dev/gemini-api/docs/openai\n",
        "external_client = AsyncOpenAI(\n",
        "    api_key=gemini_api_key,\n",
        "    base_url=\"https://generativelanguage.googleapis.com/v1beta/openai/\",\n",
        ")\n",
        "\n",
        "model = OpenAIChatCompletionsModel(\n",
        "    model=\"gemini-2.0-flash\",\n",
        "    openai_client=external_client\n",
        ")\n",
        "\n",
        "config = RunConfig(\n",
        "    model=model,\n",
        "    model_provider=external_client,\n",
        "    tracing_disabled=True\n",
        ")"
      ],
      "metadata": {
        "id": "jHqSXpjHy93h"
      },
      "execution_count": 10,
      "outputs": []
    },
    {
      "cell_type": "code",
      "source": [
        "import asyncio\n",
        "from agents import Agent, Runner\n",
        "import agentops\n",
        "\n",
        "# Initialize AgentOps\n",
        "agentops.init('586565aa-e3ce-4493-94d3-7144313b148a')\n",
        "\n",
        "async def main():\n",
        "    agent = Agent(\n",
        "        name=\"Assistant\",\n",
        "        instructions=\"You only respond in english.\",\n",
        "    )\n",
        "\n",
        "    result = await Runner.run(agent, \"Tell me about agentic ai in urdu.\",run_config=config)\n",
        "    print(result.final_output)\n",
        "\n",
        "if __name__ == \"__main__\":\n",
        "    asyncio.run(main())\n",
        ""
      ],
      "metadata": {
        "colab": {
          "base_uri": "https://localhost:8080/"
        },
        "id": "9JdBU1fozAvO",
        "outputId": "ec408666-58f1-4db7-b5a6-a2c22f2f4eab"
      },
      "execution_count": 12,
      "outputs": [
        {
          "output_type": "stream",
          "name": "stderr",
          "text": [
            "🖇 AgentOps: \u001b[34mSession Replay: https://app.agentops.ai/sessions?trace_id=e52d71bac3c5d119334c87c4bad9ab48\u001b[0m\n"
          ]
        },
        {
          "output_type": "stream",
          "name": "stdout",
          "text": [
            "I don't have enough information to provide a comprehensive explanation of agentic AI in Urdu. My knowledge base on that specific topic and in that language is limited. However, I can provide a general overview of agentic AI and then suggest how you might find more specific information in Urdu.\n",
            "\n",
            "**What is Agentic AI? (General Explanation)**\n",
            "\n",
            "Agentic AI refers to artificial intelligence systems that can act autonomously to achieve specific goals. Unlike traditional AI systems that simply respond to instructions, agentic AI can:\n",
            "\n",
            "*   **Plan:** Determine the steps needed to achieve a goal.\n",
            "*   **Act:** Execute those steps, interacting with the real world or digital environments.\n",
            "*   **Learn:** Adapt and improve their strategies based on experience and feedback.\n",
            "*   **Reason:** Make decisions and solve problems in complex situations.\n",
            "*   **Perceive:** Gather information from their environment using sensors or other data sources.\n",
            "\n",
            "Think of it like a virtual assistant that's not just following your explicit commands, but understanding your *intent* and proactively working towards achieving it, even if you haven't spelled out every single step.\n",
            "\n",
            "**Examples of Agentic AI Applications:**\n",
            "\n",
            "*   **Robotics:** Robots that can navigate complex environments and perform tasks without constant human intervention.\n",
            "*   **Autonomous Driving:** Self-driving cars that can make decisions and react to changing road conditions.\n",
            "*   **Personalized Recommendations:** AI systems that learn your preferences and proactively suggest relevant products or services.\n",
            "*   **Cybersecurity:** AI agents that can detect and respond to cyber threats in real-time.\n",
            "*   **Financial Trading:** Algorithms that can execute trades autonomously based on market conditions and investment strategies.\n",
            "\n",
            "**Why it's challenging to explain fully in Urdu:**\n",
            "\n",
            "*   **New Field:** Agentic AI is a relatively new and rapidly evolving field. The terminology may not be fully established or translated consistently into Urdu.\n",
            "*   **Technical Depth:** The underlying concepts of agentic AI involve complex programming, algorithms, and machine learning techniques. Translating these technical details accurately into Urdu requires specialized knowledge.\n",
            "*   **Limited Resources:** There may be limited resources available in Urdu specifically discussing agentic AI.\n",
            "\n",
            "**How to Find More Information in Urdu:**\n",
            "\n",
            "1.  **Search Online:** Use Urdu keywords like:\n",
            "    *   \"ایجنٹک اے آئی\" (Agentic AI)\n",
            "    *   \"خودمختار مصنوعی ذہانت\" (Autonomous Artificial Intelligence)\n",
            "    *   \"مصنوعی ذہانت ایجنٹ\" (Artificial Intelligence Agent)\n",
            "    *   \"ذہین ایجنٹ\" (Intelligent Agent)\n",
            "\n",
            "    Try searching on Google, YouTube, and Urdu-language websites.\n",
            "\n",
            "2.  **Academic Journals and Conferences:** Look for research papers or presentations on AI from Urdu-speaking researchers. Universities and research institutions in Pakistan and other Urdu-speaking regions may have relevant publications.\n",
            "\n",
            "3.  **Translation Tools:** Use online translation tools (like Google Translate) to translate English articles or resources on agentic AI into Urdu. While not perfect, this can help you get a basic understanding.\n",
            "\n",
            "4.  **Ask Experts:** If you know any AI researchers or developers who speak Urdu, ask them for recommendations or explanations.\n",
            "\n",
            "5.  **Community Forums:** Search for online forums or communities related to AI or technology in Urdu. You may be able to find discussions or ask questions about agentic AI.\n",
            "\n",
            "I hope this general overview and guidance are helpful! Let me know if you have other questions.\n",
            "\n"
          ]
        }
      ]
    },
    {
      "cell_type": "code",
      "source": [],
      "metadata": {
        "id": "37d56jvCzFbl"
      },
      "execution_count": null,
      "outputs": []
    }
  ]
}