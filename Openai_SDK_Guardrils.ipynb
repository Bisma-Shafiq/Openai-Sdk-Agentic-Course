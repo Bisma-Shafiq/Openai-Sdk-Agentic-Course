{
  "nbformat": 4,
  "nbformat_minor": 0,
  "metadata": {
    "colab": {
      "provenance": []
    },
    "kernelspec": {
      "name": "python3",
      "display_name": "Python 3"
    },
    "language_info": {
      "name": "python"
    }
  },
  "cells": [
    {
      "cell_type": "code",
      "execution_count": 1,
      "metadata": {
        "colab": {
          "base_uri": "https://localhost:8080/"
        },
        "id": "gzF8z5ehRt17",
        "outputId": "3af3797e-8ec4-4ed3-aa10-3a227d023eca"
      },
      "outputs": [
        {
          "output_type": "stream",
          "name": "stdout",
          "text": [
            "\u001b[?25l   \u001b[90m━━━━━━━━━━━━━━━━━━━━━━━━━━━━━━━━━━━━━━━━\u001b[0m \u001b[32m0.0/120.2 kB\u001b[0m \u001b[31m?\u001b[0m eta \u001b[36m-:--:--\u001b[0m\r\u001b[2K   \u001b[90m━━━━━━━━━━━━━━━━━━━━━━━━━━━━━━━━━━━━━━━━\u001b[0m \u001b[32m120.2/120.2 kB\u001b[0m \u001b[31m6.4 MB/s\u001b[0m eta \u001b[36m0:00:00\u001b[0m\n",
            "\u001b[?25h\u001b[?25l   \u001b[90m━━━━━━━━━━━━━━━━━━━━━━━━━━━━━━━━━━━━━━━━\u001b[0m \u001b[32m0.0/129.3 kB\u001b[0m \u001b[31m?\u001b[0m eta \u001b[36m-:--:--\u001b[0m\r\u001b[2K   \u001b[90m━━━━━━━━━━━━━━━━━━━━━━━━━━━━━━━━━━━━━━━━\u001b[0m \u001b[32m129.3/129.3 kB\u001b[0m \u001b[31m10.7 MB/s\u001b[0m eta \u001b[36m0:00:00\u001b[0m\n",
            "\u001b[?25h\u001b[?25l   \u001b[90m━━━━━━━━━━━━━━━━━━━━━━━━━━━━━━━━━━━━━━━━\u001b[0m \u001b[32m0.0/130.3 kB\u001b[0m \u001b[31m?\u001b[0m eta \u001b[36m-:--:--\u001b[0m\r\u001b[2K   \u001b[90m━━━━━━━━━━━━━━━━━━━━━━━━━━━━━━━━━━━━━━━━\u001b[0m \u001b[32m130.3/130.3 kB\u001b[0m \u001b[31m9.0 MB/s\u001b[0m eta \u001b[36m0:00:00\u001b[0m\n",
            "\u001b[?25h\u001b[?25l   \u001b[90m━━━━━━━━━━━━━━━━━━━━━━━━━━━━━━━━━━━━━━━━\u001b[0m \u001b[32m0.0/720.4 kB\u001b[0m \u001b[31m?\u001b[0m eta \u001b[36m-:--:--\u001b[0m\r\u001b[2K   \u001b[90m━━━━━━━━━━━━━━━━━━━━━━━━━━━━━━━━━━━━━━━━\u001b[0m \u001b[32m720.4/720.4 kB\u001b[0m \u001b[31m37.1 MB/s\u001b[0m eta \u001b[36m0:00:00\u001b[0m\n",
            "\u001b[2K   \u001b[90m━━━━━━━━━━━━━━━━━━━━━━━━━━━━━━━━━━━━━━━━\u001b[0m \u001b[32m44.4/44.4 kB\u001b[0m \u001b[31m3.4 MB/s\u001b[0m eta \u001b[36m0:00:00\u001b[0m\n",
            "\u001b[2K   \u001b[90m━━━━━━━━━━━━━━━━━━━━━━━━━━━━━━━━━━━━━━━━\u001b[0m \u001b[32m72.0/72.0 kB\u001b[0m \u001b[31m5.9 MB/s\u001b[0m eta \u001b[36m0:00:00\u001b[0m\n",
            "\u001b[2K   \u001b[90m━━━━━━━━━━━━━━━━━━━━━━━━━━━━━━━━━━━━━━━━\u001b[0m \u001b[32m62.5/62.5 kB\u001b[0m \u001b[31m5.0 MB/s\u001b[0m eta \u001b[36m0:00:00\u001b[0m\n",
            "\u001b[?25h"
          ]
        }
      ],
      "source": [
        "!pip install -Uq openai-agents"
      ]
    },
    {
      "cell_type": "code",
      "source": [
        "import nest_asyncio\n",
        "nest_asyncio.apply()"
      ],
      "metadata": {
        "id": "oRrmFYbTR3ym"
      },
      "execution_count": 2,
      "outputs": []
    },
    {
      "cell_type": "code",
      "source": [
        "from google.colab import userdata\n",
        "from pydantic import BaseModel\n",
        "from agents import (\n",
        "    Agent,\n",
        "    GuardrailFunctionOutput,\n",
        "    InputGuardrailTripwireTriggered,\n",
        "    OutputGuardrailTripwireTriggered,\n",
        "    RunContextWrapper,\n",
        "    Runner,\n",
        "    TResponseInputItem,\n",
        "    input_guardrail,\n",
        "    output_guardrail,\n",
        "    AsyncOpenAI,\n",
        "    OpenAIChatCompletionsModel,\n",
        "    RunConfig\n",
        ")"
      ],
      "metadata": {
        "id": "qAqsc4eKSYdE"
      },
      "execution_count": 3,
      "outputs": []
    },
    {
      "cell_type": "code",
      "source": [
        "gemini_api_key = userdata.get(\"GEMINI_API_KEY\")\n",
        "\n",
        "\n",
        "# Check if the API key is present; if not, raise an error\n",
        "if not gemini_api_key:\n",
        "    raise ValueError(\"GEMINI_API_KEY is not set. Please ensure it is defined in your .env file.\")\n",
        "\n",
        "\n",
        "#Reference: https://ai.google.dev/gemini-api/docs/openai\n",
        "external_client = AsyncOpenAI(\n",
        "    api_key=gemini_api_key,\n",
        "    base_url=\"https://generativelanguage.googleapis.com/v1beta/openai/\",\n",
        ")\n",
        "\n",
        "model = OpenAIChatCompletionsModel(\n",
        "    model=\"gemini-2.0-flash\",\n",
        "    openai_client=external_client\n",
        ")\n",
        "\n",
        "config = RunConfig(\n",
        "    model=model,\n",
        "    model_provider=external_client,\n",
        "    tracing_disabled=True\n",
        ")\n"
      ],
      "metadata": {
        "id": "qPEP4k5vSeRS"
      },
      "execution_count": 4,
      "outputs": []
    },
    {
      "cell_type": "code",
      "source": [
        "class MathHomeworkOutput(BaseModel):\n",
        "    is_math_homework: bool\n",
        "    reasoning: str\n",
        "\n",
        "guardrail_agent = Agent(\n",
        "    name=\"Guardrail check\",\n",
        "    instructions=\"Check if the user is asking you to do their math homework.\",\n",
        "    output_type=MathHomeworkOutput,\n",
        "    model=model\n",
        ")\n",
        "result = Runner.run_sync(guardrail_agent, \"Can you help me with my math homework?\")\n",
        "print(result.final_output)\n"
      ],
      "metadata": {
        "colab": {
          "base_uri": "https://localhost:8080/"
        },
        "id": "8_xtlw_aSwNU",
        "outputId": "ca77ba97-2251-49c2-f462-b2d7ea654d7f"
      },
      "execution_count": 6,
      "outputs": [
        {
          "output_type": "stream",
          "name": "stdout",
          "text": [
            "is_math_homework=True reasoning='The user explicitly asked for help with their math homework.'\n"
          ]
        }
      ]
    },
    {
      "cell_type": "code",
      "source": [
        "@input_guardrail\n",
        "async def math_guardrail(\n",
        "    ctx: RunContextWrapper[None], agent: Agent, input: str | list[TResponseInputItem]\n",
        ") -> GuardrailFunctionOutput:\n",
        "    print(\"Running math guardrail\")\n",
        "    result = await Runner.run(guardrail_agent, input, context=ctx.context, run_config = config)\n",
        "    print('Result', result.final_output)\n",
        "    return GuardrailFunctionOutput(\n",
        "        output_info=result.final_output,\n",
        "        # tripwire_triggered=False #result.final_output.is_math_homework,\n",
        "        tripwire_triggered=result.final_output.is_math_homework,\n",
        "    )"
      ],
      "metadata": {
        "id": "rZU1Y6luWDXO"
      },
      "execution_count": 12,
      "outputs": []
    },
    {
      "cell_type": "code",
      "source": [
        "agent = Agent(\n",
        "    name=\"Customer support agent\",\n",
        "    instructions=\"You are a customer support agent. You help customers with their questions.\",\n",
        "    input_guardrails=[math_guardrail],\n",
        ")"
      ],
      "metadata": {
        "id": "bpP3AcgDWP51"
      },
      "execution_count": 13,
      "outputs": []
    },
    {
      "cell_type": "code",
      "source": [
        "# This should trip the guardrail\n",
        "\n",
        "try:\n",
        "    result = await Runner.run(agent, \"Hello, can you help me solve for x: 2x + 3 = 11?\", run_config = config)\n",
        "    print(\"Guardrail didn't trip - this is unexpected\")\n",
        "    print(result.final_output)\n",
        "\n",
        "except InputGuardrailTripwireTriggered:\n",
        "    print(\"Math homework guardrail tripped\")\n"
      ],
      "metadata": {
        "colab": {
          "base_uri": "https://localhost:8080/"
        },
        "id": "W8xvTE_PXRuU",
        "outputId": "bb4ac1a7-aee1-4720-db8e-3f2ab586a793"
      },
      "execution_count": 14,
      "outputs": [
        {
          "output_type": "stream",
          "name": "stdout",
          "text": [
            "Running math guardrail\n",
            "Result is_math_homework=True reasoning='The user is asking for help with a simple algebraic equation, which is a common type of math homework problem.'\n",
            "Math homework guardrail tripped\n"
          ]
        }
      ]
    },
    {
      "cell_type": "code",
      "source": [
        "try:\n",
        "    result = await Runner.run(agent, \"Hello\", run_config = config)\n",
        "    print(result.final_output)\n",
        "\n",
        "except InputGuardrailTripwireTriggered:\n",
        "    print(\"Math homework guardrail tripped\")\n",
        ""
      ],
      "metadata": {
        "colab": {
          "base_uri": "https://localhost:8080/"
        },
        "id": "fqgpaUSCXbms",
        "outputId": "32f60b22-3f6a-4700-a402-188297134ab4"
      },
      "execution_count": 15,
      "outputs": [
        {
          "output_type": "stream",
          "name": "stdout",
          "text": [
            "Running math guardrail\n",
            "Result is_math_homework=False reasoning='The user provided a simple greeting, with no indication of mathematical content or homework-related questions.'\n",
            "Hi there! How can I help you today?\n",
            "\n"
          ]
        }
      ]
    },
    {
      "cell_type": "code",
      "source": [
        "## output\n",
        "class MessageOutput(BaseModel):\n",
        "    response: str\n",
        "\n",
        "class MathOutput(BaseModel):\n",
        "    is_math: bool\n",
        "    reasoning: str\n",
        "\n",
        "guardrail_agent2 = Agent(\n",
        "    name=\"Guardrail check\",\n",
        "    instructions=\"Check if the output includes any math.\",\n",
        "    output_type=MathOutput,\n",
        ")\n",
        "\n",
        "@output_guardrail\n",
        "async def math_guardrail2(\n",
        "    ctx: RunContextWrapper, agent: Agent, output: MessageOutput\n",
        ") -> GuardrailFunctionOutput:\n",
        "    result = await Runner.run(guardrail_agent2, output.response, context=ctx.context, run_config = config)\n",
        "\n",
        "    return GuardrailFunctionOutput(\n",
        "        output_info=result.final_output,\n",
        "        tripwire_triggered=result.final_output.is_math,\n",
        "    )"
      ],
      "metadata": {
        "id": "UOEukZ_1XbjH"
      },
      "execution_count": 16,
      "outputs": []
    },
    {
      "cell_type": "code",
      "source": [
        "agent2 = Agent(\n",
        "    name=\"Customer support agent\",\n",
        "    instructions=\"You are a customer support agent. You help customers with their questions.\",\n",
        "    output_guardrails=[math_guardrail2],\n",
        "    output_type=MessageOutput,\n",
        ")"
      ],
      "metadata": {
        "id": "siFjGFVLYVNP"
      },
      "execution_count": 17,
      "outputs": []
    },
    {
      "cell_type": "code",
      "source": [
        "# This should trip the guardrail\n",
        "try:\n",
        "    await Runner.run(agent2, \"Hello, can you help me solve for x: 2x + 3 = 11?\", run_config = config)\n",
        "    print(\"Guardrail didn't trip - this is unexpected\")\n",
        "\n",
        "except OutputGuardrailTripwireTriggered:\n",
        "    print(\"Math output guardrail tripped\")\n",
        ""
      ],
      "metadata": {
        "colab": {
          "base_uri": "https://localhost:8080/"
        },
        "id": "hujaRpuFYZMj",
        "outputId": "7e4312cc-3844-479a-bd9d-e67330e08386"
      },
      "execution_count": 18,
      "outputs": [
        {
          "output_type": "stream",
          "name": "stdout",
          "text": [
            "Math output guardrail tripped\n"
          ]
        }
      ]
    },
    {
      "cell_type": "code",
      "source": [],
      "metadata": {
        "id": "vo0dg4JvYbKl"
      },
      "execution_count": null,
      "outputs": []
    }
  ]
}