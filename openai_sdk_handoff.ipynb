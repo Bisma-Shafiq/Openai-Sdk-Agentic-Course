{
  "cells": [
    {
      "cell_type": "code",
      "execution_count": 16,
      "metadata": {
        "id": "EeKica0R3exg"
      },
      "outputs": [],
      "source": [
        "!pip install -Uq openai-agents"
      ]
    },
    {
      "cell_type": "code",
      "execution_count": 17,
      "metadata": {
        "id": "gYqNnec33ez4"
      },
      "outputs": [],
      "source": [
        "import nest_asyncio\n",
        "nest_asyncio.apply()"
      ]
    },
    {
      "cell_type": "code",
      "execution_count": 18,
      "metadata": {
        "id": "x85nQ3wa3e2h"
      },
      "outputs": [],
      "source": [
        "from pydantic import BaseModel\n",
        "from agents import (\n",
        "    AsyncOpenAI,\n",
        "    OpenAIChatCompletionsModel,\n",
        "    RunConfig)\n",
        "from google.colab import userdata"
      ]
    },
    {
      "cell_type": "code",
      "execution_count": 32,
      "metadata": {
        "id": "jER9iXF23e6n"
      },
      "outputs": [],
      "source": [
        "gemini_api_key = userdata.get(\"GEMINI_API_KEY\")\n",
        "\n",
        "\n",
        "# Check if the API key is present; if not, raise an error\n",
        "if not gemini_api_key:\n",
        "    raise ValueError(\"GEMINI_API_KEY is not set. Please ensure it is defined in your .env file.\")\n",
        "\n",
        "#Reference: https://ai.google.dev/gemini-api/docs/openai\n",
        "external_client = AsyncOpenAI(\n",
        "    api_key=gemini_api_key,\n",
        "    base_url=\"https://generativelanguage.googleapis.com/v1beta/openai/\",\n",
        ")\n",
        "\n",
        "model = OpenAIChatCompletionsModel(\n",
        "    model=\"gemini-2.0-flash\",\n",
        "    openai_client=external_client\n",
        ")\n",
        "\n",
        "config = RunConfig(\n",
        "    model=model,\n",
        "    model_provider=external_client,\n",
        "    tracing_disabled=True\n",
        ")"
      ]
    },
    {
      "cell_type": "code",
      "execution_count": 33,
      "metadata": {
        "id": "UJjC7jBi3e8p"
      },
      "outputs": [],
      "source": [
        "# from agents import set_default_openai_client, set_tracing_disabled\n",
        "# set_default_openai_client(external_client)\n",
        "# set_tracing_disabled(True)"
      ]
    },
    {
      "cell_type": "code",
      "execution_count": 34,
      "metadata": {
        "id": "rtrz4BSj3sML"
      },
      "outputs": [],
      "source": [
        "from agents import Agent , Runner\n",
        "import asyncio\n",
        "# Agent specializing in billing inquiries\n",
        "billing_agent = Agent(\n",
        "    name=\"Billing Agent\",\n",
        "    instructions=\"You handle all billing-related inquiries. Provide clear and concise information regarding billing issues.\"\n",
        ")\n",
        "\n",
        "# Agent specializing in refund processes\n",
        "refund_agent = Agent(\n",
        "    name=\"Refund Agent\",\n",
        "    instructions=\"You handle all refund-related processes. Assist users in processing refunds efficiently.\"\n",
        ")\n",
        "\n",
        "# Triage agent that decides which specialist agent to hand off tasks to\n",
        "triage_agent = Agent(\n",
        "    name=\"Triage Agent\",\n",
        "    instructions=\"You determine which agent should handle the user's request based on the nature of the inquiry.\",\n",
        "    handoffs=[billing_agent, refund_agent]\n",
        ")\n",
        "\n",
        "async def main(input: str):\n",
        "    result = await Runner.run(triage_agent, input=input, run_config=config)\n",
        "    print(result.final_output)\n"
      ]
    },
    {
      "cell_type": "code",
      "execution_count": 36,
      "metadata": {
        "colab": {
          "base_uri": "https://localhost:8080/"
        },
        "id": "yMB2_QnCd56U",
        "outputId": "0f5b47b1-539d-4e18-c55f-a9fb0a542d58"
      },
      "outputs": [
        {
          "name": "stdout",
          "output_type": "stream",
          "text": [
            "Okay, I am transferring you to a billing agent who can provide you with detailed information about your billing status. Please wait a moment while I connect you.\n",
            "\n"
          ]
        }
      ],
      "source": [
        "asyncio.run(main(\"tell me about my billing status\"))"
      ]
    },
    {
      "cell_type": "markdown",
      "metadata": {
        "id": "qR55lNgXganZ"
      },
      "source": [
        "### Customizing handoffs via the handoff() function"
      ]
    },
    {
      "cell_type": "code",
      "execution_count": 37,
      "metadata": {
        "id": "PSaG1TKrfulL"
      },
      "outputs": [],
      "source": [
        "from agents import Agent, Runner, RunContextWrapper, handoff\n",
        "\n",
        "urdu_agent = Agent(\n",
        "    name=\"Urdu agent\",\n",
        "    instructions=\"You only speak Urdu.\"\n",
        ")\n",
        "\n",
        "english_agent = Agent(\n",
        "    name=\"English agent\",\n",
        "    instructions=\"You only speak English\"\n",
        ")\n",
        "def on_handoff(agent: Agent, ctx: RunContextWrapper[None]):\n",
        "    agent_name = agent.name\n",
        "    print(\"--------------------------------\")\n",
        "    print(f\"Handing off to {agent_name}...\")\n",
        "    print(\"--------------------------------\")\n",
        "\n",
        "triage_agent = Agent(\n",
        "    name=\"Triage agent\",\n",
        "    instructions=\"Handoff to the appropriate agent based on the language of the request.\",\n",
        "    handoffs=[\n",
        "            handoff(urdu_agent, on_handoff=lambda ctx: on_handoff(urdu_agent, ctx)),\n",
        "            handoff(english_agent, on_handoff=lambda ctx: on_handoff(english_agent, ctx))\n",
        "    ],\n",
        ")\n",
        "\n",
        "\n",
        "async def main(input: str):\n",
        "    result = await Runner.run(triage_agent, input=input, run_config=config)\n",
        "    print(result.final_output)\n"
      ]
    },
    {
      "cell_type": "code",
      "execution_count": 38,
      "metadata": {
        "colab": {
          "base_uri": "https://localhost:8080/"
        },
        "id": "odk5sq0aosyv",
        "outputId": "86fc0ed1-a83d-4871-8663-80ba1dc306e6"
      },
      "outputs": [
        {
          "name": "stdout",
          "output_type": "stream",
          "text": [
            "--------------------------------\n",
            "Handing off to Urdu agent...\n",
            "--------------------------------\n",
            "میں آپ کی بلنگ اسٹیٹس کے بارے میں جاننے میں مدد کر سکتا ہوں۔ براہ کرم مجھے اپنی بلنگ کے بارے میں مزید تفصیلات بتائیں، جیسے کہ آپ کا اکاؤنٹ نمبر، نام، یا بل کی تاریخ۔ اس معلومات کے ساتھ، میں آپ کو آپ کی بلنگ اسٹیٹس کے بارے میں معلومات دے سکتا ہوں۔\n",
            "\n",
            "(Agar aap apni billing status ke bare mein maloomat chahte hain, to mujhe apne account number, naam, ya bill ki tareekh jaisi tafsilat batayen. Is maloomat ke sath, main aapko aapki billing status ke bare mein maloomat de sakta hoon.)\n",
            "\n"
          ]
        }
      ],
      "source": [
        "asyncio.run(main('tell me about my billing status. traslate it to urdu'))"
      ]
    },
    {
      "cell_type": "code",
      "execution_count": null,
      "metadata": {
        "id": "sVMBo-B5o5Vj"
      },
      "outputs": [],
      "source": []
    }
  ],
  "metadata": {
    "colab": {
      "provenance": []
    },
    "kernelspec": {
      "display_name": "Python 3",
      "name": "python3"
    },
    "language_info": {
      "name": "python"
    }
  },
  "nbformat": 4,
  "nbformat_minor": 0
}
